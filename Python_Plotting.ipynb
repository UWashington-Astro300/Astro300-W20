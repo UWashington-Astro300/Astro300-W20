{
 "cells": [
  {
   "cell_type": "markdown",
   "metadata": {
    "collapsed": false
   },
   "source": [
    "# Plotting data with Python - `matplotlib`\n",
    "\n",
    "* Python has [LOTS](https://pyviz.org/overviews/index.html) of data visualization (plotting) libraries\n",
    "* Lots of them are built on top of `matplotlib`\n",
    "* `matplotlib` tries to make easy things easy and hard things possible"
   ]
  },
  {
   "cell_type": "code",
   "execution_count": 0,
   "metadata": {
    "collapsed": false
   },
   "outputs": [
   ],
   "source": [
    "%matplotlib inline\n",
    "\n",
    "import matplotlib.pyplot as plt\n",
    "import numpy as np\n",
    "import pandas as pd"
   ]
  },
  {
   "cell_type": "markdown",
   "metadata": {
    "collapsed": false
   },
   "source": [
    "### Simple Plotting"
   ]
  },
  {
   "cell_type": "markdown",
   "metadata": {
    "collapsed": false
   },
   "source": [
    "$$\\large\n",
    "[\\ 0 < x < 3\\pi\\ ] \\hspace{1cm}\n",
    "y = e^{-x/3} \\cos(\\pi x)\n",
    "$$"
   ]
  },
  {
   "cell_type": "code",
   "execution_count": 0,
   "metadata": {
    "collapsed": false
   },
   "outputs": [
   ],
   "source": [
    "my_x = np.linspace(0, 3*np.pi, 250)             # 250 points linearly spaced between 0 and 2pi\n",
    "my_y = np.cos(np.pi*my_x) * np.exp(-my_x/3)"
   ]
  },
  {
   "cell_type": "code",
   "execution_count": 0,
   "metadata": {
    "collapsed": false
   },
   "outputs": [
   ],
   "source": [
    "plt.plot(my_x, my_y)"
   ]
  },
  {
   "cell_type": "markdown",
   "metadata": {
    "collapsed": false
   },
   "source": [
    "### Simple plotting - with *style*"
   ]
  },
  {
   "cell_type": "markdown",
   "metadata": {
    "collapsed": false
   },
   "source": [
    "* The default style of `matplotlib` is a bit lacking in style.\n",
    "* Some would term it: ugly.\n",
    "* The new version of `matplotlib` has added some new styles that you can use in place of the default.\n",
    "* Changing the style will effect all of the rest of the plots on the notebook.\n",
    "\n",
    "Examples of the various styles can be found [here](http://matplotlib.org/examples/style_sheets/style_sheets_reference.html)"
   ]
  },
  {
   "cell_type": "code",
   "execution_count": 0,
   "metadata": {
    "collapsed": false
   },
   "outputs": [
   ],
   "source": [
    "plt.style.available"
   ]
  },
  {
   "cell_type": "code",
   "execution_count": 0,
   "metadata": {
    "collapsed": false
   },
   "outputs": [
   ],
   "source": [
    "plt.style.use('ggplot')"
   ]
  },
  {
   "cell_type": "code",
   "execution_count": 0,
   "metadata": {
    "collapsed": false
   },
   "outputs": [
   ],
   "source": [
    "plt.plot(my_x,my_y);"
   ]
  },
  {
   "cell_type": "markdown",
   "metadata": {
    "collapsed": false
   },
   "source": [
    "Adding the'`;` at the end suppresses the `Out[]` line"
   ]
  },
  {
   "cell_type": "markdown",
   "metadata": {
    "collapsed": false
   },
   "source": [
    "---\n",
    "\n",
    "# Better plotting\n",
    "\n",
    "* The simple plots: `plt.plot()` are great for a quick look at data, but it does not provide\n",
    "much control over the plot.\n",
    "* The `fig,ax` interface lets you control everything!"
   ]
  },
  {
   "cell_type": "code",
   "execution_count": 0,
   "metadata": {
    "collapsed": false
   },
   "outputs": [
   ],
   "source": [
    "fig,ax = plt.subplots(1,1)                    # One window\n",
    "fig.set_size_inches(8,5)                      # (width,height)\n",
    "fig.tight_layout()                            # Make better use of space on plot\n",
    "\n",
    "ax.set_xlim(0.0, 6.0)\n",
    "ax.set_ylim(-1.5, 1.5)\n",
    "\n",
    "ax.set_xlabel('Time (s)')\n",
    "ax.set_ylabel('Voltage (mV)')\n",
    "ax.set_title('Circut Output')\n",
    "\n",
    "ax.plot(my_x, my_y);"
   ]
  },
  {
   "cell_type": "markdown",
   "metadata": {
    "collapsed": false
   },
   "source": [
    "---\n",
    "\n",
    "#### Colors, Markers, and Linestyles"
   ]
  },
  {
   "cell_type": "raw",
   "metadata": {
    "collapsed": false
   },
   "source": [
    "  color =               marker =                 linestyle =\n",
    "\n",
    "'b'     blue         's'        square          '-'   Solid line\n",
    "'g'     green        'o'        circle          '--'  Dashed\n",
    "'r'     red          '^'        triangle        ':'   Dotted\n",
    "'c'     cyan         '+'        plus            '-.'  Dash Dot\n",
    "'m'     magenta      '.'        dot\n",
    "'y'     yellow       '*'        star\n",
    "'k'     black        'D'        diamond         size in pts (72 pt = 1 in)\n",
    "'w'     white        'x'        cross"
   ]
  },
  {
   "cell_type": "markdown",
   "metadata": {
    "collapsed": false
   },
   "source": [
    "##### [Complete Marker List](https://matplotlib.org/api/markers_api.html)\n",
    "\n",
    "---\n",
    "\n",
    "### In addition, you can specify colors in many different ways:\n",
    "\n",
    "- Grayscale intensities: `color = '0.8'`\n",
    "- RGB triplets: `color = (0.3, 0.1, 0.9)`\n",
    "- RGB triplets (with transparency): `color = (0.3, 0.1, 0.9, 0.4)`\n",
    "- Hex strings: `color = '#7ff00'`\n",
    "- [HTML color names](https://en.wikipedia.org/wiki/Web_colors): `color = 'Chartreuse'`\n",
    "- a name from the [xkcd color survey](https://xkcd.com/color/rgb/): `color = 'xkcd:poison green'`)\n",
    "\n",
    "---"
   ]
  },
  {
   "cell_type": "code",
   "execution_count": 0,
   "metadata": {
    "collapsed": false
   },
   "outputs": [
   ],
   "source": [
    "fig,ax = plt.subplots(1,1)                    # One window\n",
    "fig.set_size_inches(8,5)                      # (width,height)\n",
    "fig.tight_layout()                            # Make better use of space on plot\n",
    "\n",
    "ax.set_xlim(0.0, 6.0)\n",
    "ax.set_ylim(-1.5, 1.5)\n",
    "\n",
    "ax.set_xlabel('Time (s)')\n",
    "ax.set_ylabel('Voltage (mV)')\n",
    "ax.set_title('Circut Output')\n",
    "\n",
    "ax.plot(my_x, my_y,\n",
    "        color = 'MidnightBlue',\n",
    "        marker = 'None',\n",
    "        linestyle = '--');"
   ]
  },
  {
   "cell_type": "markdown",
   "metadata": {
    "collapsed": false
   },
   "source": [
    "---\n",
    "\n",
    "## Histograms"
   ]
  },
  {
   "cell_type": "code",
   "execution_count": 0,
   "metadata": {
    "collapsed": false
   },
   "outputs": [
   ],
   "source": [
    "grade_table = pd.read_csv('./Data/Grades.csv')"
   ]
  },
  {
   "cell_type": "code",
   "execution_count": 0,
   "metadata": {
    "collapsed": false
   },
   "outputs": [
   ],
   "source": [
    "grade_table.head(3)"
   ]
  },
  {
   "cell_type": "code",
   "execution_count": 0,
   "metadata": {
    "collapsed": false
   },
   "outputs": [
   ],
   "source": [
    "fig,ax = plt.subplots(1,1)                    # One window\n",
    "fig.set_size_inches(8,5)                      # (width,height)\n",
    "fig.tight_layout()                            # Make better use of space on plot\n",
    "\n",
    "ax.hist(grade_table['Exam1'],\n",
    "        bins = 30,\n",
    "        facecolor = 'MediumOrchid')\n",
    "\n",
    "ax.hist(grade_table['Exam2'],\n",
    "        bins = 30,\n",
    "        histtype = 'step',\n",
    "        color = 'MidnightBlue',\n",
    "        linewidth = 4);"
   ]
  },
  {
   "cell_type": "markdown",
   "metadata": {
    "collapsed": false
   },
   "source": [
    "### Side Topic - Histogram Bins\n",
    "\n",
    "* Plotting a histogram of two datasets with a differnt number of elements using the same bin number can lead to a misleading plot\n",
    "* You can fix this by defining your bins"
   ]
  },
  {
   "cell_type": "code",
   "execution_count": 0,
   "metadata": {
    "collapsed": false
   },
   "outputs": [
   ],
   "source": [
    "some_grades = (\n",
    "    grade_table\n",
    "    .query(\"Exam2 > 40\")\n",
    ")\n",
    "\n",
    "some_grades.head(2)"
   ]
  },
  {
   "cell_type": "code",
   "execution_count": 0,
   "metadata": {
    "collapsed": false
   },
   "outputs": [
   ],
   "source": [
    "fig,ax = plt.subplots(1,1)                    # One window\n",
    "fig.set_size_inches(8,5)                      # (width,height)\n",
    "fig.tight_layout()                            # Make better use of space on plot\n",
    "\n",
    "ax.hist(grade_table['Exam2'],\n",
    "        bins = 30,\n",
    "        facecolor = 'MediumOrchid')\n",
    "\n",
    "ax.hist(some_grades['Exam2'],\n",
    "        bins = 30,\n",
    "        histtype = 'step',\n",
    "        color = 'MidnightBlue',\n",
    "        linewidth = 4);"
   ]
  },
  {
   "cell_type": "code",
   "execution_count": 0,
   "metadata": {
    "collapsed": false
   },
   "outputs": [
   ],
   "source": [
    "my_bins = np.arange(18,95,2)\n",
    "my_bins"
   ]
  },
  {
   "cell_type": "code",
   "execution_count": 0,
   "metadata": {
    "collapsed": false
   },
   "outputs": [
   ],
   "source": [
    "fig,ax = plt.subplots(1,1)                    # One window\n",
    "fig.set_size_inches(8,5)                      # (width,height)\n",
    "fig.tight_layout()                            # Make better use of space on plot\n",
    "\n",
    "ax.hist(grade_table['Exam2'],\n",
    "        bins = my_bins,\n",
    "        facecolor = 'MediumOrchid')\n",
    "\n",
    "ax.hist(some_grades['Exam2'],\n",
    "        bins = my_bins,\n",
    "        histtype = 'step',\n",
    "        color = 'MidnightBlue',\n",
    "        linewidth = 4);"
   ]
  },
  {
   "cell_type": "markdown",
   "metadata": {
    "collapsed": false
   },
   "source": [
    "---\n",
    "\n",
    "## Adding text and lines\n",
    "\n",
    "* `.vlines(x, ymin, ymax)`\n",
    "* `.hlines(y, xmin, xmax)`\n",
    "* `.text(X, Y, 'text')`"
   ]
  },
  {
   "cell_type": "code",
   "execution_count": 0,
   "metadata": {
    "collapsed": false
   },
   "outputs": [
   ],
   "source": [
    "my_average = grade_table['Exam2'].mean()\n",
    "my_std = grade_table['Exam2'].std()"
   ]
  },
  {
   "cell_type": "code",
   "execution_count": 0,
   "metadata": {
    "collapsed": false
   },
   "outputs": [
   ],
   "source": [
    "my_average, my_std"
   ]
  },
  {
   "cell_type": "code",
   "execution_count": 0,
   "metadata": {
    "collapsed": false
   },
   "outputs": [
   ],
   "source": [
    "fig,ax = plt.subplots(1,1)                    # One window\n",
    "fig.set_size_inches(8,5)                      # (width,height)\n",
    "fig.tight_layout()                            # Make better use of space on plot\n",
    "\n",
    "ax.hist(grade_table['Exam2'],\n",
    "        bins = my_bins,\n",
    "        facecolor = 'MediumOrchid')\n",
    "\n",
    "ax.vlines(my_average, 0, 28,\n",
    "          color = 'LawnGreen',\n",
    "          linewidth = 5,\n",
    "          linestyle = '-')\n",
    "\n",
    "ax.vlines(my_average + (1.5 * my_std), 0, 14,\n",
    "          color = 'Navy',\n",
    "          linewidth = 3,\n",
    "          linestyle = '--')\n",
    "\n",
    "ax.text(75, 8,\n",
    "       'O-level',\n",
    "        color='HotPink',\n",
    "        fontsize = 36);"
   ]
  },
  {
   "cell_type": "markdown",
   "metadata": {
    "collapsed": false
   },
   "source": [
    "----\n",
    "\n",
    "## Subplots\n",
    "- `subplot(rows,columns)`\n",
    "- Access each subplot like a matrix. `[x,y]`\n",
    "- Labels have to be added to each subplot separately\n",
    "- For example: `subplot(2,2)` makes four panels with the coordinates:"
   ]
  },
  {
   "cell_type": "raw",
   "metadata": {
    "collapsed": false
   },
   "source": [
    " [0,0] [0,1]\n",
    " [1,0] [1,1]"
   ]
  },
  {
   "cell_type": "code",
   "execution_count": 0,
   "metadata": {
    "collapsed": false
   },
   "outputs": [
   ],
   "source": [
    "fig, ax = plt.subplots(2,2)                # 2 rows 2 columns\n",
    "fig.set_size_inches(11,8.5)                # width, height\n",
    "\n",
    "# w_pad (width), h_pad (height) Extra space around subplots\n",
    "\n",
    "fig.tight_layout(w_pad=3.5, h_pad=3.5)\n",
    "\n",
    "# Plot at [0,0]\n",
    "\n",
    "ax[0,0].plot(my_x, my_y,\n",
    "             color = 'b',\n",
    "             marker = 'None',\n",
    "             linestyle = '--')\n",
    "\n",
    "ax[0,0].set_xlabel('Time (s)')\n",
    "ax[0,0].set_ylabel('Voltage (mV)')\n",
    "ax[0,0].set_title('Circut Output')\n",
    "\n",
    "# Plot at [0,1]\n",
    "\n",
    "ax[0,1].hist(grade_table['Exam2'],\n",
    "             bins = 30,\n",
    "             facecolor = 'MediumOrchid')\n",
    "\n",
    "ax[0,1].set_xlabel('Exam 2 Score')\n",
    "ax[0,1].set_ylabel('Number of Students')\n",
    "ax[0,1].set_title('Exam 2 Grades')\n",
    "\n",
    "# Plot at [1,0]\n",
    "\n",
    "ax[1,0].hist(grade_table['Exam2'],\n",
    "             bins = 30,\n",
    "             linewidth = 5,\n",
    "             histtype = 'step')\n",
    "\n",
    "ax[1,0].vlines(my_average, 0, 30.5,\n",
    "               color = 'LawnGreen',\n",
    "               linewidth = 5,\n",
    "               linestyle = '-')\n",
    "\n",
    "ax[1,0].set_title('Exam 2 Grades')\n",
    "ax[1,0].set_xlabel('Exam 2 Score')\n",
    "ax[1,0].set_ylabel('Number of Students')\n",
    "\n",
    "# Plot at [1,1] - x-axis set to log\n",
    "\n",
    "ax[1,1].set_xscale('log')\n",
    "\n",
    "ax[1,1].plot(my_x, my_y,\n",
    "             color = 'r',\n",
    "             marker = 'None',\n",
    "             linestyle = '--')\n",
    "\n",
    "ax[1,1].set_xlabel('Time (s)')\n",
    "ax[1,1].set_ylabel('Voltage (mV)')\n",
    "ax[1,1].set_title('Circut Output (log)');"
   ]
  },
  {
   "cell_type": "markdown",
   "metadata": {
    "collapsed": false
   },
   "source": [
    "### Subplots with one row do not need a first index (`[0,0] -> [0]`)"
   ]
  },
  {
   "cell_type": "code",
   "execution_count": 0,
   "metadata": {
    "collapsed": false
   },
   "outputs": [
   ],
   "source": [
    "fig, ax = plt.subplots(1,2)              # 1 row 2 columns\n",
    "fig.set_size_inches(11,4)                # width, height\n",
    "\n",
    "# A little extra width padding\n",
    "\n",
    "fig.tight_layout(w_pad = 2.0)\n",
    "\n",
    "\n",
    "# Plot at [0]\n",
    "\n",
    "ax[0].plot(my_x, my_y,\n",
    "           color = 'b',\n",
    "           marker = 'None',\n",
    "           linestyle = '--')\n",
    "\n",
    "ax[0].set_xlabel('Time (s)')\n",
    "ax[0].set_ylabel('Voltage (mV)')\n",
    "ax[0].set_title('Circut Output')\n",
    "\n",
    "# Plot at [1]\n",
    "\n",
    "ax[1].hist(grade_table['Exam2'],\n",
    "           bins = 30,\n",
    "           facecolor = 'MediumOrchid')\n",
    "\n",
    "ax[1].set_title('Exam 2 Grades')\n",
    "ax[1].set_xlabel('Exam 2 Score')\n",
    "ax[1].set_ylabel('Number of Students');"
   ]
  },
  {
   "cell_type": "markdown",
   "metadata": {
    "collapsed": false
   },
   "source": [
    "---\n",
    "\n",
    "## An Astronomical Example - Color Magnitude Diagram"
   ]
  },
  {
   "cell_type": "code",
   "execution_count": 0,
   "metadata": {
    "collapsed": false
   },
   "outputs": [
   ],
   "source": [
    "star_table = pd.read_csv('./Data/M15_Bright.csv')\n",
    "star_table.head(2)"
   ]
  },
  {
   "cell_type": "code",
   "execution_count": 0,
   "metadata": {
    "collapsed": false
   },
   "outputs": [
   ],
   "source": [
    "star_table['BV'] = star_table['Bmag'] - star_table['Vmag']"
   ]
  },
  {
   "cell_type": "code",
   "execution_count": 0,
   "metadata": {
    "collapsed": false
   },
   "outputs": [
   ],
   "source": [
    "star_table.head(2)"
   ]
  },
  {
   "cell_type": "code",
   "execution_count": 0,
   "metadata": {
    "collapsed": false
   },
   "outputs": [
   ],
   "source": [
    "red_clump = (\n",
    "    star_table\n",
    "    .query(\"Vmag < 16.25\")\n",
    "    .query(\"BV < 0.55\")\n",
    ")"
   ]
  },
  {
   "cell_type": "code",
   "execution_count": 0,
   "metadata": {
    "collapsed": false
   },
   "outputs": [
   ],
   "source": [
    "red_clump.head(2)"
   ]
  },
  {
   "cell_type": "code",
   "execution_count": 0,
   "metadata": {
    "collapsed": false
   },
   "outputs": [
   ],
   "source": [
    "fig, ax = plt.subplots(1,1)\n",
    "fig.set_size_inches(15,10)\n",
    "fig.tight_layout()\n",
    "\n",
    "ax.set_xlim(-0.25,1.5)\n",
    "ax.set_ylim(12,19)\n",
    "\n",
    "ax.set_aspect(1/6)         # Make 1 unit in X = 6 units in Y\n",
    "ax.invert_yaxis()          # Magnitudes increase to smaller values\n",
    "\n",
    "ax.set_xlabel(\"B-V color\")\n",
    "ax.set_ylabel(\"V mag\")\n",
    "ax.set_title(\"M15 CMD\")\n",
    "\n",
    "ax.plot(star_table['BV'],star_table['Vmag'],\n",
    "        color = \"SteelBlue\",\n",
    "        marker = \"o\",\n",
    "        linestyle = \"None\",\n",
    "        markersize = 5);\n",
    "\n",
    "ax.plot(red_clump['BV'],red_clump['Vmag'],\n",
    "        color = \"DeepPink\",\n",
    "        marker = \"*\",\n",
    "        linestyle = \"None\",\n",
    "        markersize = 10);"
   ]
  },
  {
   "cell_type": "code",
   "execution_count": 0,
   "metadata": {
    "collapsed": false
   },
   "outputs": [
   ],
   "source": [
    "fig.savefig('M15_CMD.png', bbox_inches='tight')"
   ]
  },
  {
   "cell_type": "markdown",
   "metadata": {
    "collapsed": false
   },
   "source": [
    "---\n",
    "# Alternative Projections\n",
    "\n",
    "## Polar Plots (`r`, $\\theta$)"
   ]
  },
  {
   "cell_type": "code",
   "execution_count": 0,
   "metadata": {
    "collapsed": false
   },
   "outputs": [
   ],
   "source": [
    "my_theta = np.linspace(0, 2*np.pi, 1000)"
   ]
  },
  {
   "cell_type": "markdown",
   "metadata": {
    "collapsed": false
   },
   "source": [
    "#### The axis (`ax`) command is different for alternative projections:"
   ]
  },
  {
   "cell_type": "code",
   "execution_count": 0,
   "metadata": {
    "collapsed": false
   },
   "outputs": [
   ],
   "source": [
    "fig = plt.figure()\n",
    "ax = fig.add_subplot(111, projection='polar')\n",
    "\n",
    "fig.set_size_inches(6,6)\n",
    "fig.tight_layout()\n",
    "\n",
    "my_r = my_theta\n",
    "\n",
    "ax.plot(my_r, my_theta/5.0,\n",
    "        label=\"spiral\")\n",
    "\n",
    "ax.plot(my_r, np.cos(4*my_theta),\n",
    "        label=\"flower\")\n",
    "\n",
    "ax.legend(loc=0, shadow=True);"
   ]
  },
  {
   "cell_type": "raw",
   "metadata": {
    "collapsed": false
   },
   "source": [
    "Legend loc codes:\n",
    "\n",
    "0   best                6   center left\n",
    "1   upper right         7   center right\n",
    "2   upper left          8   lower center\n",
    "3   lower left          9   upper center\n",
    "4   lower right         10  center"
   ]
  },
  {
   "cell_type": "markdown",
   "metadata": {
    "collapsed": false
   },
   "source": [
    "## 3D plots `(X,Y,Z)`"
   ]
  },
  {
   "cell_type": "code",
   "execution_count": 0,
   "metadata": {
    "collapsed": false
   },
   "outputs": [
   ],
   "source": [
    "from mpl_toolkits.mplot3d import Axes3D"
   ]
  },
  {
   "cell_type": "code",
   "execution_count": 0,
   "metadata": {
    "collapsed": false
   },
   "outputs": [
   ],
   "source": [
    "fig = plt.figure()\n",
    "ax = fig.add_subplot(111,projection='3d')\n",
    "\n",
    "fig.set_size_inches(9,9)\n",
    "fig.tight_layout()\n",
    "\n",
    "ax.set_xlabel('This is X')\n",
    "ax.set_ylabel('This is Y')\n",
    "ax.set_zlabel('This is Z')\n",
    "\n",
    "my_x = my_theta\n",
    "my_y = np.cos(3 * my_theta)\n",
    "my_z = np.sin(2 * my_theta)\n",
    "\n",
    "ax.plot(my_x, my_y, my_z,\n",
    "        color = 'Firebrick',\n",
    "        marker = 'None',\n",
    "        linestyle = '--');\n",
    "\n",
    "ax.view_init(azim = 45, elev = 20)"
   ]
  },
  {
   "cell_type": "markdown",
   "metadata": {
    "collapsed": false
   },
   "source": [
    "---\n",
    "## Tons of examples of `matplotlib` plots can be found [here](http://matplotlib.org/gallery.html)"
   ]
  },
  {
   "cell_type": "markdown",
   "metadata": {
    "collapsed": false
   },
   "source": [
    "---\n",
    "# Plotting data with Python - `Seaborn`\n",
    "\n",
    "* `Seaborn` is a library for making statistical graphics in Python\n",
    "* `Seaborn` is tightly intergrated with the `pandas` library\n",
    "* [Seaborn Tutorial](https://seaborn.pydata.org/tutorial.html)"
   ]
  },
  {
   "cell_type": "code",
   "execution_count": 0,
   "metadata": {
    "collapsed": false
   },
   "outputs": [
   ],
   "source": [
    "import seaborn as sns"
   ]
  },
  {
   "cell_type": "markdown",
   "metadata": {
    "collapsed": false
   },
   "source": [
    "### `relplot()` =  relationship plot"
   ]
  },
  {
   "cell_type": "code",
   "execution_count": 0,
   "metadata": {
    "collapsed": false
   },
   "outputs": [
   ],
   "source": [
    "sns.relplot(x=\"Exam1\", y=\"Exam2\",\n",
    "            data = grade_table,\n",
    "            height = 8);"
   ]
  },
  {
   "cell_type": "code",
   "execution_count": 0,
   "metadata": {
    "collapsed": false
   },
   "outputs": [
   ],
   "source": [
    "sns.relplot(x=\"Exam1\", y=\"Exam2\",\n",
    "            data = grade_table,\n",
    "            height = 8,\n",
    "            hue = \"House\");"
   ]
  },
  {
   "cell_type": "code",
   "execution_count": 0,
   "metadata": {
    "collapsed": false
   },
   "outputs": [
   ],
   "source": [
    "sns.relplot(x=\"Exam1\", y=\"Exam2\",\n",
    "            data = grade_table,\n",
    "            height = 8,\n",
    "            hue = \"House\",\n",
    "            style = \"House\");"
   ]
  },
  {
   "cell_type": "code",
   "execution_count": 0,
   "metadata": {
    "collapsed": false
   },
   "outputs": [
   ],
   "source": [
    "sns.catplot(x=\"House\", y=\"Exam2\",\n",
    "            data=grade_table,\n",
    "            height = 8,\n",
    "            kind='swarm');"
   ]
  },
  {
   "cell_type": "code",
   "execution_count": 0,
   "metadata": {
    "collapsed": false
   },
   "outputs": [
   ],
   "source": [
    "sns.catplot(x=\"House\", y=\"Exam2\",\n",
    "            data=grade_table,\n",
    "            height = 8,\n",
    "            kind='box');"
   ]
  },
  {
   "cell_type": "code",
   "execution_count": 0,
   "metadata": {
    "collapsed": false
   },
   "outputs": [
   ],
   "source": [
    "sns.catplot(x=\"House\", y=\"Exam2\",\n",
    "            data=grade_table,\n",
    "            height = 8,\n",
    "            kind='boxen');"
   ]
  },
  {
   "cell_type": "code",
   "execution_count": 0,
   "metadata": {
    "collapsed": false
   },
   "outputs": [
   ],
   "source": [
    "sns.catplot(x=\"House\", y=\"Exam2\",\n",
    "            data=grade_table,\n",
    "            height = 8,\n",
    "            kind='violin');"
   ]
  },
  {
   "cell_type": "code",
   "execution_count": 0,
   "metadata": {
    "collapsed": false
   },
   "outputs": [
   ],
   "source": [
   ]
  }
 ],
 "metadata": {
  "anaconda-cloud": {
  },
  "kernelspec": {
   "display_name": "Python 3 (system-wide)",
   "language": "python",
   "metadata": {
    "cocalc": {
     "description": "Python 3 programming language",
     "priority": 100,
     "url": "https://www.python.org/"
    }
   },
   "name": "python3"
  },
  "language_info": {
   "codemirror_mode": {
    "name": "ipython",
    "version": 3
   },
   "file_extension": ".py",
   "mimetype": "text/x-python",
   "name": "python",
   "nbconvert_exporter": "python",
   "pygments_lexer": "ipython3",
   "version": "3.7.3"
  }
 },
 "nbformat": 4,
 "nbformat_minor": 0
}