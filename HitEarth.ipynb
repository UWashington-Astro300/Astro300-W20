{
 "cells": [
  {
   "cell_type": "markdown",
   "metadata": {
    "collapsed": false
   },
   "source": [
    "# Hit Earth\n",
    "\n",
    "* You failed to destroy the asteroids!\n",
    "* [But there's no sense crying / Over every mistake](https://www.youtube.com/watch?v=Y6ljFaKRTrI)\n",
    "* There is still science to be done!\n",
    "\n",
    "<p>\n",
    "<img src=\"./images/GLaDOS.gif\">\n",
    "</p>"
   ]
  },
  {
   "cell_type": "markdown",
   "metadata": {
    "collapsed": false
   },
   "source": [
    "## Read in your `.ecsv` table from the last homework"
   ]
  },
  {
   "cell_type": "code",
   "execution_count": 0,
   "metadata": {
    "collapsed": false
   },
   "outputs": [
   ],
   "source": [
   ]
  },
  {
   "cell_type": "markdown",
   "metadata": {
    "collapsed": false
   },
   "source": [
    "---\n",
    "\n",
    "## Determine the orbital speed of each of the PHAs at **r** = 1 AU.\n",
    "\n",
    "* Write a function: `find_orbital_speed`\n",
    "* Make sure you use units.\n",
    "* Express your answer [SI](https://en.wikipedia.org/wiki/International_System_of_Units) units.\n",
    "* Add a column `Orbital_Speed` to the table."
   ]
  },
  {
   "cell_type": "code",
   "execution_count": 0,
   "metadata": {
    "collapsed": false
   },
   "outputs": [
   ],
   "source": [
    "# Write Function\n"
   ]
  },
  {
   "cell_type": "code",
   "execution_count": 0,
   "metadata": {
    "collapsed": false
   },
   "outputs": [
   ],
   "source": [
    "# Use Function\n"
   ]
  },
  {
   "cell_type": "code",
   "execution_count": 0,
   "metadata": {
    "collapsed": false
   },
   "outputs": [
   ],
   "source": [
    "# Add column\n"
   ]
  },
  {
   "cell_type": "markdown",
   "metadata": {
    "collapsed": false
   },
   "source": [
    "---\n",
    "\n",
    "## Determine the encounter speed of each of the PHAs.\n",
    "\n",
    "* Write a function: `find_encounter_speed`\n",
    "* Make sure you use units.\n",
    "* Express your answer [SI](https://en.wikipedia.org/wiki/International_System_of_Units) units.\n",
    "* Add a column `Encounter_Speed` to the table."
   ]
  },
  {
   "cell_type": "code",
   "execution_count": 0,
   "metadata": {
    "collapsed": false
   },
   "outputs": [
   ],
   "source": [
    "# Write Function\n"
   ]
  },
  {
   "cell_type": "code",
   "execution_count": 0,
   "metadata": {
    "collapsed": false
   },
   "outputs": [
   ],
   "source": [
    "# Use Function\n"
   ]
  },
  {
   "cell_type": "code",
   "execution_count": 0,
   "metadata": {
    "collapsed": false
   },
   "outputs": [
   ],
   "source": [
    "# Add column\n"
   ]
  },
  {
   "cell_type": "markdown",
   "metadata": {
    "collapsed": false
   },
   "source": [
    "---\n",
    "\n",
    "## Determine the impact speed of each of the PHAs.\n",
    "\n",
    "* Write a function: `find_impact_speed`\n",
    "* Make sure you use units.\n",
    "* Express your answer [SI](https://en.wikipedia.org/wiki/International_System_of_Units) units.\n",
    "* Add a column `Impact_Speed` to the table."
   ]
  },
  {
   "cell_type": "code",
   "execution_count": 0,
   "metadata": {
    "collapsed": false
   },
   "outputs": [
   ],
   "source": [
    "# Write Function\n"
   ]
  },
  {
   "cell_type": "code",
   "execution_count": 0,
   "metadata": {
    "collapsed": false
   },
   "outputs": [
   ],
   "source": [
    "# Use Function\n"
   ]
  },
  {
   "cell_type": "code",
   "execution_count": 0,
   "metadata": {
    "collapsed": false
   },
   "outputs": [
   ],
   "source": [
    "# Add column\n"
   ]
  },
  {
   "cell_type": "markdown",
   "metadata": {
    "collapsed": false
   },
   "source": [
    "---\n",
    "\n",
    "## Determine the kinetic energy each PHA would have if they impacted the surface of the Earth.\n",
    "\n",
    "* Write a function: `find_impact_ke`\n",
    "* Make sure you use units.\n",
    "* Express your answer [SI](https://en.wikipedia.org/wiki/International_System_of_Units) units.\n",
    "* Add a column `Impact_KE` to the table."
   ]
  },
  {
   "cell_type": "code",
   "execution_count": 0,
   "metadata": {
    "collapsed": false
   },
   "outputs": [
   ],
   "source": [
    "# Write Function\n"
   ]
  },
  {
   "cell_type": "code",
   "execution_count": 0,
   "metadata": {
    "collapsed": false
   },
   "outputs": [
   ],
   "source": [
    "# Use Function\n"
   ]
  },
  {
   "cell_type": "code",
   "execution_count": 0,
   "metadata": {
    "collapsed": false
   },
   "outputs": [
   ],
   "source": [
    "# Add column\n"
   ]
  },
  {
   "cell_type": "markdown",
   "metadata": {
    "collapsed": false
   },
   "source": [
    "---\n",
    "\n",
    "## Orbital Speed - [Vis-viva equation](https://en.wikipedia.org/wiki/Vis-viva_equation)\n",
    "\n",
    "The speed of an object on an elliptical orbit around the Sun (with semi-major axis = `a`) at a distance `r` is:\n",
    "\n",
    "$$ \\large\n",
    "v^{2}\\ =\\ {GM_{\\odot}\\ \\left(\\ \\frac{2}{r} - \\frac{1}{a}\\ \\right)}\n",
    "$$\n",
    "\n",
    "Watch your units! Both `r` and `a` should have the same type of unit\n",
    "\n",
    "---\n",
    "\n",
    "## Encountering the Earth\n",
    "\n",
    "The encounter speed of an asteroid meeting the Earth at 1 AU is (assuimg aligned prograde orbits):\n",
    "\n",
    "$$ \\large\n",
    "V_{\\textrm{encounter}}\\ =\\ V_{\\textrm{asteroid at 1AU}}\\ -\\ V_{\\textrm{Earth}}\n",
    "$$\n",
    "\n",
    "Where $V_{\\textrm{Earth}}\\ =\\ 30\\ \\textrm{km/s}$\n",
    "\n",
    "---\n",
    "\n",
    "## Hitting the Earth\n",
    "\n",
    "The impact speed of an asteroid hitting the Earth is:\n",
    "\n",
    "$$ \\large\n",
    "V_{\\textrm{impact}}^{2}\\ =\\ {V_{\\textrm{encounter}}^2 + V_{\\textrm{escape}}^2}\n",
    "$$\n",
    "\n",
    "Where $V_{\\textrm{escape}}\\ = 11.2\\ \\textrm{km/s}$\n"
   ]
  },
  {
   "cell_type": "markdown",
   "metadata": {
    "collapsed": false
   },
   "source": [
    "---\n",
    "\n",
    "## Due  Mon Feb 9 (1pm)\n",
    "\n",
    " * `File -> Download as... -> HTML`\n",
    " * `Upload HTML file to Canvas`"
   ]
  },
  {
   "cell_type": "markdown",
   "metadata": {
    "collapsed": false
   },
   "source": [
    "---\n",
    "\n",
    "## **Ravenclaw**\n",
    "\n",
    "## Determine the size of the crater each PHA would make if they impacted the surface of the Earth\n",
    "\n",
    "* Assume asteroids and the Earth's surface have a density = 3,000 kg/m$^3$\n",
    "* Read the instructions below!!!!\n",
    "  * Seriously, read the instructions below!\n",
    "  * I will ignore all questions/emails about how: *my units don't work!!!!!*\n",
    "* Add a `Crater_Size` column to the table with units"
   ]
  },
  {
   "cell_type": "code",
   "execution_count": 0,
   "metadata": {
    "collapsed": false
   },
   "outputs": [
   ],
   "source": [
   ]
  },
  {
   "cell_type": "code",
   "execution_count": 0,
   "metadata": {
    "collapsed": false
   },
   "outputs": [
   ],
   "source": [
   ]
  },
  {
   "cell_type": "code",
   "execution_count": 0,
   "metadata": {
    "collapsed": false
   },
   "outputs": [
   ],
   "source": [
   ]
  },
  {
   "cell_type": "code",
   "execution_count": 0,
   "metadata": {
    "collapsed": false
   },
   "outputs": [
   ],
   "source": [
   ]
  },
  {
   "cell_type": "markdown",
   "metadata": {
    "collapsed": false
   },
   "source": [
    "---\n",
    "\n",
    "## Size of Crater\n",
    "\n",
    "This size of the crater formed by an impacting asteroid can be estimated by:\n",
    "\n",
    "$$ \\large\n",
    "\\textrm{Size of Crater} = 1.8\\ \\rho_{p}^{0.11}\\ \\rho_{t}^{-0.33}\\ g^{-0.22}\\ D^{0.13}\\ W^{0.22}\n",
    "$$\n",
    "\n",
    "Where\n",
    "\n",
    "* $\\rho_{p}$ is the asteroid density\n",
    "* $\\rho_{t}$ is the target density\n",
    "* $D$ is the asteroid diameter\n",
    "* $W$ is the kinetic energy of the asteroid hitting the Earth's surface\n",
    "\n",
    "### Important Note!!!!\n",
    "\n",
    "This type of equation is sometimes refered to as an *emperical scaling relation*\n",
    "\n",
    "* The units do not work out as written\n",
    "* You need to put **all variables** into the same unit system (such as [SI](https://en.wikipedia.org/wiki/International_System_of_Units))\n",
    "* Then use .value to just pull off the numerical value\n",
    "* The answer will be in whatever unit system you used (such as [SI](https://en.wikipedia.org/wiki/International_System_of_Units))"
   ]
  },
  {
   "cell_type": "code",
   "execution_count": 0,
   "metadata": {
    "collapsed": false
   },
   "outputs": [
   ],
   "source": [
   ]
  }
 ],
 "metadata": {
  "kernelspec": {
   "display_name": "Python 3 (system-wide)",
   "language": "python",
   "metadata": {
    "cocalc": {
     "description": "Python 3 programming language",
     "priority": 100,
     "url": "https://www.python.org/"
    }
   },
   "name": "python3"
  },
  "language_info": {
   "codemirror_mode": {
    "name": "ipython",
    "version": 3
   },
   "file_extension": ".py",
   "mimetype": "text/x-python",
   "name": "python",
   "nbconvert_exporter": "python",
   "pygments_lexer": "ipython3",
   "version": "3.6.9"
  }
 },
 "nbformat": 4,
 "nbformat_minor": 0
}