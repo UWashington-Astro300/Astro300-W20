{
 "cells": [
  {
   "cell_type": "markdown",
   "metadata": {
    "collapsed": false
   },
   "source": [
    "## First Last - Reading Data"
   ]
  },
  {
   "cell_type": "code",
   "execution_count": 0,
   "metadata": {
    "collapsed": true
   },
   "outputs": [
   ],
   "source": [
    "import numpy as np\n",
    "import pandas as pd"
   ]
  },
  {
   "cell_type": "markdown",
   "metadata": {
    "collapsed": false
   },
   "source": [
    "### Read in the datafile `./Data/MainBelt.csv`"
   ]
  },
  {
   "cell_type": "code",
   "execution_count": 0,
   "metadata": {
    "collapsed": true
   },
   "outputs": [
   ],
   "source": [
   ]
  },
  {
   "cell_type": "markdown",
   "metadata": {
    "collapsed": false
   },
   "source": [
    "### Write a function called `find_diameter` to compute the Diameters of the Main Belt Asteroids (MBAs)\n",
    "\n",
    "* The function takes 2 arguments: an absolute magnitude and an geometric albedo\n",
    "* The function returns the diameter of the asteroid (in km)\n",
    "* The largest asteroid should have a diameter of ~ 1000 km"
   ]
  },
  {
   "cell_type": "code",
   "execution_count": 0,
   "metadata": {
    "collapsed": false
   },
   "outputs": [
   ],
   "source": [
   ]
  },
  {
   "cell_type": "code",
   "execution_count": 0,
   "metadata": {
    "collapsed": true
   },
   "outputs": [
   ],
   "source": [
   ]
  },
  {
   "cell_type": "markdown",
   "metadata": {
    "collapsed": false
   },
   "source": [
    "### Add a `Diameter` column to the data table"
   ]
  },
  {
   "cell_type": "code",
   "execution_count": 0,
   "metadata": {
    "collapsed": false
   },
   "outputs": [
   ],
   "source": [
   ]
  },
  {
   "cell_type": "code",
   "execution_count": 0,
   "metadata": {
    "collapsed": false
   },
   "outputs": [
   ],
   "source": [
   ]
  },
  {
   "cell_type": "markdown",
   "metadata": {
    "collapsed": false
   },
   "source": [
    "### Write a function called `find_mass` to compute the Masses of the MBAs. Assume $\\rho$ = 3,000 kg/m$^3$\n",
    "\n",
    "* The function takes 2 arguments: a diameter and a density `(diameter, density)`\n",
    "* The function returns the mass of the asteroid\n",
    "* Watch your units!\n",
    "* The most massive asteroid should have a mass of ~ 1e21 kg"
   ]
  },
  {
   "cell_type": "code",
   "execution_count": 0,
   "metadata": {
    "collapsed": false
   },
   "outputs": [
   ],
   "source": [
   ]
  },
  {
   "cell_type": "code",
   "execution_count": 0,
   "metadata": {
    "collapsed": true
   },
   "outputs": [
   ],
   "source": [
   ]
  },
  {
   "cell_type": "markdown",
   "metadata": {
    "collapsed": false
   },
   "source": [
    "### Add a `Mass` column to the data table"
   ]
  },
  {
   "cell_type": "code",
   "execution_count": 0,
   "metadata": {
    "collapsed": false
   },
   "outputs": [
   ],
   "source": [
   ]
  },
  {
   "cell_type": "code",
   "execution_count": 0,
   "metadata": {
    "collapsed": false
   },
   "outputs": [
   ],
   "source": [
   ]
  },
  {
   "cell_type": "markdown",
   "metadata": {
    "collapsed": false
   },
   "source": [
    "## Answer the following question using DataFrame [Methods and Attributes](https://pandas.pydata.org/pandas-docs/stable/reference/api/pandas.DataFrame.html)"
   ]
  },
  {
   "cell_type": "markdown",
   "metadata": {
    "collapsed": false
   },
   "source": [
    "### List the 5 most massive MBAs"
   ]
  },
  {
   "cell_type": "code",
   "execution_count": 0,
   "metadata": {
    "collapsed": true
   },
   "outputs": [
   ],
   "source": [
   ]
  },
  {
   "cell_type": "markdown",
   "metadata": {
    "collapsed": false
   },
   "source": [
    "### List the 5 least massive MBAs"
   ]
  },
  {
   "cell_type": "code",
   "execution_count": 0,
   "metadata": {
    "collapsed": true
   },
   "outputs": [
   ],
   "source": [
   ]
  },
  {
   "cell_type": "markdown",
   "metadata": {
    "collapsed": false
   },
   "source": [
    "### Determine the total mass of all of the MBAs"
   ]
  },
  {
   "cell_type": "code",
   "execution_count": 0,
   "metadata": {
    "collapsed": true
   },
   "outputs": [
   ],
   "source": [
   ]
  },
  {
   "cell_type": "markdown",
   "metadata": {
    "collapsed": false
   },
   "source": [
    "### Determine the fraction of the total mass contained in the 5 largest MBAs"
   ]
  },
  {
   "cell_type": "code",
   "execution_count": 0,
   "metadata": {
    "collapsed": false
   },
   "outputs": [
   ],
   "source": [
   ]
  },
  {
   "cell_type": "code",
   "execution_count": 0,
   "metadata": {
    "collapsed": true
   },
   "outputs": [
   ],
   "source": [
   ]
  },
  {
   "cell_type": "markdown",
   "metadata": {
    "collapsed": false
   },
   "source": [
    "### How does the total mass of the MBAs compare to the mass of the Moon ($7.35\\ \\times\\ 10^{22}$ kg)?\n",
    "\n",
    "* Compute Total MBA Mass / Lunar Mass"
   ]
  },
  {
   "cell_type": "code",
   "execution_count": 0,
   "metadata": {
    "collapsed": true
   },
   "outputs": [
   ],
   "source": [
   ]
  },
  {
   "cell_type": "markdown",
   "metadata": {
    "collapsed": false
   },
   "source": [
    "### Due Mon Oct 14 - 1pm\n",
    "- `Make sure to change the filename to your name!`\n",
    "- `Make sure to change the Title to your name!`\n",
    "- `Save notebook as .html: File -> Download as -> HTML (.html)`\n",
    "- `Upload .html to Canvas`"
   ]
  },
  {
   "cell_type": "markdown",
   "metadata": {
    "collapsed": false
   },
   "source": [
    "***\n",
    "\n",
    "## Absolute Magnitude, Size and Mass - Solar System Objects\n",
    "\n",
    "The **absolute magnitude** of a solar system object is the magnitude that it would have if it was 1 AU from the Earth and 1 AU from the Sun while having a phase angle of 0 degrees. Remember, astronomical magnitudes are \"backwards\".  The magnitude of a bright object is *less* than the magnitude of a dimmer object.\n",
    "\n",
    "The phase angle **$\\theta$** in astronomical observations is the angle between the light incident onto an observed object and the light reflected from the object. In the context of astronomical observations, this is usually the angle $\\angle$ Sun-object-observer.\n",
    "\n",
    "<p align=\"center\"> \n",
    "<img src=\"./images/Phase.jpg\">\n",
    "</p>\n",
    "\n",
    "It is actually impossible for an object to be 1 AU from the Earth and 1 AU from the Sun while having a phase angle of 0 degrees. The Sun and the Earth would occupy the same point.  However, this is the definition of **absolute magnitude**.  Please note, that the definition of absolute magnitude for solar system objects is *very* different from the definition of absolute magnitude used for stars.\n",
    "\n",
    "The Absolute magnitude of an object is related to the physical size of the object via the equation:\n",
    "\n",
    "$$\\large \\textrm{Diameter}\\ (\\textrm{in km}) = \\frac{1329}{\\sqrt{\\textrm{geometric albedo}}}\\  10^{-0.2(\\textrm{absolute magnitude})}$$\n",
    "\n",
    "The **geometric albedo** of an astronomical body is the ratio of its actual brightness at zero phase angle (i.e., as seen from the light source) to that of an idealized flat, fully reflecting, diffusively scattering disk with the same cross-section.\n",
    "\n",
    "Perfect reflectors of light have a **geometric albedo** = 1 and perfect absorbers have a **geometric albedo** = 0. \n",
    "Typical asteroids have a wide range of values: 0.02 $<$ **geometric albedo** $<$ 0.8.\n",
    "\n",
    "----\n",
    "\n",
    "Once we have the diameter of the object, we can determine the mass if we know the density ($\\rho$).\n",
    "\n",
    "$ \\large \\mathrm{Mass} = \\rho \\cdot \\mathrm{Volume} = \\rho \\cdot \\frac{4}{3} \\pi r^3 \\ = \\ \\rho \\cdot \\frac{1}{6} \\pi D^3 $\n",
    "\n",
    "This assumes that the object is spherical (this is **not** a very good assumption for asteroids)."
   ]
  },
  {
   "cell_type": "code",
   "execution_count": 0,
   "metadata": {
    "collapsed": false
   },
   "outputs": [
   ],
   "source": [
   ]
  }
 ],
 "metadata": {
  "anaconda-cloud": {
  },
  "kernelspec": {
   "display_name": "Python 3 (system-wide)",
   "language": "python",
   "metadata": {
    "cocalc": {
     "description": "Python 3 programming language",
     "priority": 100,
     "url": "https://www.python.org/"
    }
   },
   "name": "python3"
  },
  "language_info": {
   "codemirror_mode": {
    "name": "ipython",
    "version": 3
   },
   "file_extension": ".py",
   "mimetype": "text/x-python",
   "name": "python",
   "nbconvert_exporter": "python",
   "pygments_lexer": "ipython3",
   "version": "3.6.9"
  }
 },
 "nbformat": 4,
 "nbformat_minor": 0
}